{
 "cells": [
  {
   "cell_type": "markdown",
   "metadata": {},
   "source": [
    "<img src=\"https://www.ikiam.edu.ec/img/logo-ikiam-grey.png\" width=300 height=240 />\n",
    "\n",
    "# EXAMEN PARCIAL PYTHON\n",
    "    \n",
    "\n",
    "## GBI6-2021II: BIOINFORMÁTICA\n",
    "\n",
    "**Apellidos, Nombres**: Páez Salcan, Johanna Lisbeth\n",
    "\n",
    "**24/02/2022**"
   ]
  },
  {
   "cell_type": "markdown",
   "metadata": {},
   "source": [
    "<font color='red'>NO AGREGUE NUEVAS CELDAS, UTILICE ÚNICAMENTE LAS QUE ESTÁN CREADAS</font>\n"
   ]
  },
  {
   "cell_type": "markdown",
   "metadata": {},
   "source": [
    "### REQUERIMIENTOS PARA EL EXAMEN\n",
    "Para este examen se requiere dos documentos: \n",
    "\n",
    "1. Archivo ```miningscience.py``` donde tendrá dos funciones:\n",
    "\n",
    "2. Archivo ```2021II_GBI6_ExamenParcialPython``` donde se llamará las funciones y se obtendrá resultados."
   ]
  },
  {
   "cell_type": "markdown",
   "metadata": {},
   "source": [
    "## Ejercicio 1 [2 puntos]\n",
    "Cree el archivo ```miningscience.py``` con las siguientes dosfunciones:\n",
    "    \n",
    "i. ```download_pubmed```: para descargar la data de PubMed utilizando el **ENTREZ** de Biopython. El parámetro de entrada para la función es el ```keyword```. \n",
    "    \n",
    "ii. ```mining_pubs```: esta función debe utilizar el módulo **re** y utilizar el párametro ```tipo``` para realizar lo siguiente:\n",
    "        \n",
    "* Si el tipo es \"DP\" recupera el año de publicación del artículo. El retorno es un *dataframe* con el **PMID** y el **DP_year**.\n",
    "      \n",
    "* Si el tipo es \"AU\" recupera el número de autores por **PMID**. El retorno es un *dataframe* con el **PMID** y el **num_auth**. \n",
    "      \n",
    "* Si el tipo es \"AD\" recupera el conteo de autores por país. El retorno es un *dataframe* con el **country** y el **num_auth**. \n",
    "\n",
    "* *Puede utilizar un ```if``` dentro de la función.* \n",
    "\n",
    "* *Cree un docstring para cada función.* \n",
    "\n",
    "Luego de crear las funciones, cargue el módulo ```miningscience``` como ```msc``` e imprima docstring de cada función.\n",
    "\n",
    "\n"
   ]
  },
  {
   "cell_type": "code",
   "execution_count": 1,
   "metadata": {},
   "outputs": [
    {
     "name": "stdout",
     "output_type": "stream",
     "text": [
      "Help on module miningscience:\n",
      "\n",
      "NAME\n",
      "    miningscience\n",
      "\n",
      "FUNCTIONS\n",
      "    download_pubmed(keyword)\n",
      "        download_pubmed: se encarga de realizar una busqueda en la plataforma de PubMed deacuerdo a palabras claves encontradas\n",
      "        en el articulo. Además nos lanza el numero de articulos encontrados\n",
      "        keyword: Se refiere a palabras claves para la busqueda\n",
      "    \n",
      "    mining_pubs(tipo, archivo)\n",
      "        mining_pubs es una funcion que ayuda a minar datos especificos dentro de un archivo determinado de Pubmed.\n",
      "        la informacion que puede encontrar esta funcion es el autor es el nombre del autor, el año de publicacion y la ciudad/País del articulo.\n",
      "        Si el tipo es \"DP\" recupera el año de publicación del artículo. El retorno es un dataframe con el PMID y el DP_year.\n",
      "        Si el tipo es \"AU\" recupera el número de autores por PMID. El retorno es un dataframe con el PMID y el num_auth.\n",
      "        Si el tipo es \"AD\" recupera el conteo de autores por país. El retorno es un dataframe con el country y el num_auth.\n",
      "        El archivo: es el documento donde en donde se encuentra la data\n",
      "\n",
      "FILE\n",
      "    c:\\users\\cliente\\test1\\miningscience.py\n",
      "\n",
      "\n"
     ]
    }
   ],
   "source": [
    "help (\"miningscience\")"
   ]
  },
  {
   "cell_type": "markdown",
   "metadata": {},
   "source": [
    "\n",
    "## Ejercicio 2 [1 punto]\n",
    "\n",
    "\n",
    "Utilice la función ```download_pubmed``` para descargar la data con el keyword ```Ecuador proteomics``` e imprima lo siguiente: \n",
    "\n",
    "```python\n",
    "'El número de artículos es: xx' # xx corresponde al número de artículos recuperados\n",
    "\n",
    "'El PMID del primer artículo es: xxxxxxxx' # xxxxxxxx corresponde al ID del artículo en PUDMED\n",
    "\n",
    "```"
   ]
  },
  {
   "cell_type": "code",
   "execution_count": 7,
   "metadata": {},
   "outputs": [
    {
     "name": "stdout",
     "output_type": "stream",
     "text": [
      "El número de artículos es:  193\n",
      "El PMID del primero artículo es:  PMID- 35121084\n",
      "\n"
     ]
    }
   ],
   "source": [
    "# Escriba import miningscience as msc\n",
    "import miningscience as msc\n",
    "import re\n",
    "datagen=msc.download_pubmed(\"Ecuador genomics\")\n",
    "dataPIMD=re.findall(r'[PMID]{4}\\-.*\\d\\n',datagen)\n",
    "print ('El número de artículos es: ', len(dataPIMD))\n",
    "print ('El PMID del primero artículo es: ',dataPIMD[0])"
   ]
  },
  {
   "cell_type": "markdown",
   "metadata": {},
   "source": [
    "## Ejercicio 3 [1 punto]\n",
    "\n",
    "Utilice la función ```mining_pubs``` para crear los siguientes dataframes: \n",
    "\n",
    "* pub_year\n",
    "\n",
    "* pub_authors\n",
    "\n",
    "* coutries\n",
    "\n",
    "Muestre los dos primeros y los dos últimos registros de cada dataframe. "
   ]
  },
  {
   "cell_type": "code",
   "execution_count": 12,
   "metadata": {},
   "outputs": [
    {
     "name": "stdout",
     "output_type": "stream",
     "text": [
      "pub_year\n",
      "        PMID   Año\n",
      "0   35121084  2022\n",
      "1   35120121  2022\n",
      "          PMID   Año\n",
      "191   17187350  2007\n",
      "192    8661097  1996\n",
      " \n",
      "pub_authors\n",
      "        PMID  Autor\n",
      "0   35121084     12\n",
      "1   35120121     14\n",
      "          PMID  Autor\n",
      "191   17187350      1\n",
      "192    8661097      9\n",
      " \n",
      "countries\n",
      "           Country  Autor\n",
      "0          Andorra      1\n",
      "1  The Netherlands     35\n",
      "         Country  Autor\n",
      "87         Samoa      1\n",
      "88  South Africa     29\n"
     ]
    }
   ],
   "source": [
    "# Escriba aquí su código para el ejercicio 3\n",
    "import miningscience as msc\n",
    "import re\n",
    "print ('pub_year')\n",
    "year= msc.mining_pubs('DP',datagen)\n",
    "print(year.head(2))\n",
    "print(year.tail(2))\n",
    "print (' ')\n",
    "print ('pub_authors')\n",
    "Autores= msc.mining_pubs('AU',datagen)\n",
    "print(Autores.head(2))\n",
    "print(Autores.tail(2))\n",
    "print (' ')\n",
    "print ('countries')\n",
    "Pais= msc.mining_pubs('AD',datagen)\n",
    "print(Pais.head(2))\n",
    "print(Pais.tail(2))"
   ]
  },
  {
   "cell_type": "markdown",
   "metadata": {
    "jp-MarkdownHeadingCollapsed": true,
    "tags": []
   },
   "source": [
    "## Ejercicio 4 [2 puntos]\n",
    "\n",
    "Realice la visualización de los datos del ejercicio 3. \n",
    "\n",
    "* ```pubyear```: utilizando el conteo artículos por año, calcule la media y la desviación estandar (asumiendo que la distribución es normal). Realice un gráfico de la distribución normal de sus datos. Coloque el título, leyenda de los ejes \"x\" e \"y\", y la leyenda de la curva (utilice las expresiones matemáticas tipos latex de ser necesario). \n",
    "\n",
    "* ```pub_authors```: realice un boxplot del conteo de autores por artículo. Coloque las leyendas adecuadas para cada eje y el título.  \n",
    "\n",
    "* ```countries```: realice una nube de puntos (adaptación de su tarea), resalte al menos 3 países con flechas. Coloque las leyendas adecuadas para cada eje y el título. \n"
   ]
  },
  {
   "cell_type": "code",
   "execution_count": 11,
   "metadata": {
    "scrolled": true
   },
   "outputs": [
    {
     "name": "stdout",
     "output_type": "stream",
     "text": [
      "articulos por año: {'2022': 7, '2021': 39, '2020': 35, '2019': 20, '2018': 14, '2017': 22, '2016': 21, '2015': 13, '2014': 5, '2013': 0, '2012': 1, '2010': 0, '2009': 0, '2008': 0, '2007': 0, '1996': 0}\n",
      "media Articulos: [1, 14, 21, 36, 1, 40, 2, 1, 1, 1, 8, 22, 1, 15, 6, 23]\n",
      "Prom:  12.0625\n",
      "DvE:  12.631650476085854\n"
     ]
    },
    {
     "data": {
      "image/png": "[encoded data removed]",
      "text/plain": [
       "<Figure size 432x288 with 1 Axes>"
      ]
     },
     "metadata": {
      "needs_background": "light"
     },
     "output_type": "display_data"
    },
    {
     "data": {
      "image/png": "[encoded data removed]",
      "text/plain": [
       "<Figure size 504x576 with 1 Axes>"
      ]
     },
     "metadata": {
      "needs_background": "light"
     },
     "output_type": "display_data"
    },
    {
     "data": {
      "image/png": "[encoded data removed]",
      "text/plain": [
       "<Figure size 1296x864 with 2 Axes>"
      ]
     },
     "metadata": {
      "needs_background": "light"
     },
     "output_type": "display_data"
    }
   ],
   "source": [
    "# Escriba aquí su código para el ejercicio 4\n",
    "import pandas as pd\n",
    "import numpy as np\n",
    "import scipy.stats as stats\n",
    "import matplotlib.pyplot as plt\n",
    "import csv as csv\n",
    "#Distribucion normal de años\n",
    "j = year.iloc[:,1]\n",
    "repeticiones = {}\n",
    "for n in j:\n",
    "    if n in repeticiones :\n",
    "        repeticiones[n] += 1\n",
    "    else:\n",
    "        repeticiones[n] = 0\n",
    "\n",
    "print('articulos por año:',repeticiones)\n",
    "\n",
    "o = pd.Series(j)\n",
    "h = list(set(o))\n",
    "a=o\n",
    "n=h\n",
    "h=[0]*len(n)\n",
    "k=0\n",
    "for elem in n:\n",
    "    d=0\n",
    "    for med in a:\n",
    "        if elem == str(med):\n",
    "            d=d+1\n",
    "    h[k]=d\n",
    "    k=k+1\n",
    "print ('media Articulos:',h)\n",
    "mean = np.average(h)\n",
    "print ('Prom: ',mean)\n",
    "stan = np.std(h)\n",
    "print ('DvE: ',stan)\n",
    "p = np.linspace(mean - 3*stan, mean + 3*stan, 100)\n",
    "sigma = stan\n",
    "label = '$\\mu = %.1f, \\ \\sigma^2=%.1f$' %(mean, stan)\n",
    "y_norm = stats.norm.pdf(p, mean, sigma)\n",
    "plt.plot(p, y_norm, c = 'magenta', label = 'desviacion estandar')\n",
    "plt.xlabel('Publicaciones',fontsize = 20,c = 'slategray')\n",
    "plt.ylabel('$φ_{μ,σ^2}(X)$',fontsize = 20,c = 'slategray')\n",
    "plt.title('Desviacion Estandar',fontsize = 26,c = 'teal')\n",
    "plt.legend('Leyendas')\n",
    "plt.show()\n",
    "#Para realizar el Boxplot\n",
    "r = Autores.iloc[:,1]\n",
    "d = pd.Series(r)\n",
    "d1 = d.tolist()\n",
    "d1.pop(79) \n",
    "fig = plt.figure(1, figsize=(7, 8))\n",
    "ax = fig.add_subplot(111)\n",
    "bp = ax.boxplot(d1)\n",
    "plt.xlabel('Número de autores',fontsize = 20,c = 'dimgrey')\n",
    "plt.ylabel('distribucion', fontsize = 20,c = 'navy')\n",
    "plt.title('Boxplot',fontsize = 26,c = 'indigo')\n",
    "plt.show()\n",
    "#Grafico de nubes\n",
    "\n",
    "se= Pais.iloc[:,0]\n",
    "su=pd.Series(se)\n",
    "ba = Pais.iloc[:,1]\n",
    "sa = pd.Series(ba)\n",
    "s = sa.tolist()\n",
    "coordinates={}\n",
    "with open('data/coordenates_paises.txt') as f:\n",
    "    csvr = csv.DictReader(f)\n",
    "    for row in csvr:\n",
    "        coordinates[row['name']] = [float(row['latitude']), \n",
    "                                       float(row['longitude'])]\n",
    "conteo_paises = Pais.groupby(['Country']).sum()\n",
    "                          \n",
    "longitud = [] \n",
    "latitud = []\n",
    "counts = s\n",
    "for z in su:\n",
    "    latitud.append(coordinates[z][0])\n",
    "    longitud.append(coordinates[z][1])\n",
    "plt.figure()\n",
    "plt.scatter(longitud, latitud, s = counts, c= counts)\n",
    "plt.colorbar()\n",
    "plt.xlabel('Longitud')\n",
    "plt.ylabel('Latitud')\n",
    "\n",
    "ard = dict(arrowstyle=\"->\")\n",
    "plt.annotate('Ecuador', xy = (-78.183406, -1.831239), \n",
    "               xytext = (-75.25, 1), arrowprops = ard)\n",
    "plt.annotate('China', xy = (104.195397, 35.86166), \n",
    "               xytext = (104.195397, 39), arrowprops= ard)\n",
    "plt.annotate('UK', xy = (-3.435973, 55.378051), \n",
    "               xytext = (-10.435973, 55.378051), arrowprops= ard)\n",
    "plt.annotate('Australia', xy = (133.775136, -25.274398), \n",
    "               xytext = (133.775136, -22), arrowprops= ard)\n",
    "\n",
    "params = plt.gcf()\n",
    "plSize = params.get_size_inches()\n",
    "params.set_size_inches( (plSize[0] * 3, plSize[1] * 3) )\n",
    "plt.xlabel('Longitud', fontsize = 20, c='coral')\n",
    "plt.ylabel('Latitud', fontsize = 20,c='chocolate')\n",
    "plt.title('Distribución de autores por país',fontsize = 24,c = 'darkorange')\n",
    "plt.show()"
   ]
  },
  {
   "cell_type": "markdown",
   "metadata": {},
   "source": [
    "## Ejercicio 5 [1 punto]\n",
    "\n",
    "Interprete los resultados del **ejercicio 4**\n",
    "\n",
    "\n"
   ]
  },
  {
   "cell_type": "markdown",
   "metadata": {},
   "source": [
    "## Ejercicio 6 [2 puntos]\n",
    "\n",
    "Para algún gen de interés, realice lo siguiente: \n",
    "\n",
    "1. Una búsqueda en la página del [NCBI nucleotide](https://www.ncbi.nlm.nih.gov/nucleotide/).\n",
    "\n",
    "2. Descargue el ```Accession List``` de su búsqueda.\n",
    "\n",
    "3. Cargue el ```Accession List``` en este notebook y haga una descarga de la data tipo ```genbank``` utilizando los diez primeros IDs de accesión. \n",
    "\n",
    "4. Arme un árbol filogenético para los resultados del paso 3.\n",
    "\n",
    "5. Interprete el árbol del paso 4. "
   ]
  },
  {
   "cell_type": "code",
   "execution_count": null,
   "metadata": {},
   "outputs": [],
   "source": []
  },
  {
   "cell_type": "markdown",
   "metadata": {},
   "source": [
    "**Escriba aquí la interpretación del árbol**\n",
    "Como se observa solo con los 10 datos dichos no se puede obtener un ancestro en comu"
   ]
  },
  {
   "cell_type": "markdown",
   "metadata": {},
   "source": [
    "## Ejercicio 5 [1 punto]\n",
    "\n",
    "Interprete los resultados del **ejercicio 4**"
   ]
  },
  {
   "cell_type": "markdown",
   "metadata": {},
   "source": [
    "## Ejercicio 7 [1 punto]\n",
    "\n",
    "\n",
    "1. Cree en GitHub un repositorio de nombre ```GBI6_ExamenPython```. \n",
    "2. Cree un archivo ```Readme.md``` que debe tener lo siguiente: \n",
    "- Datos personales\n",
    "- Características del computador\n",
    "- Versión de Python/Anaconda y de cada uno de los módulos/paquetes y utilizados\n",
    "- Explicación de la data utilizada\n",
    "\n",
    "3. Cree un directorio de nombre ```data``` donde deben estar guardado la data utilizada \n",
    "4. Realice al menos 1 control de la versión (commits) por cada ejercicio (del 1 al 6), con un mensaje que inicie como: \n",
    "\n",
    "```sh \n",
    "Carlitos Alimaña ha realizado .....  \n",
    "```"
   ]
  }
 ],
 "metadata": {
  "kernelspec": {
   "display_name": "Python 3 (ipykernel)",
   "language": "python",
   "name": "python3"
  },
  "language_info": {
   "codemirror_mode": {
    "name": "ipython",
    "version": 3
   },
   "file_extension": ".py",
   "mimetype": "text/x-python",
   "name": "python",
   "nbconvert_exporter": "python",
   "pygments_lexer": "ipython3",
   "version": "3.9.7"
  },
  "latex_envs": {
   "LaTeX_envs_menu_present": true,
   "autoclose": false,
   "autocomplete": true,
   "bibliofile": "biblio.bib",
   "cite_by": "apalike",
   "current_citInitial": 1,
   "eqLabelWithNumbers": true,
   "eqNumInitial": 1,
   "hotkeys": {
    "equation": "Ctrl-E",
    "itemize": "Ctrl-I"
   },
   "labels_anchors": false,
   "latex_user_defs": false,
   "report_style_numbering": false,
   "user_envs_cfg": false
  },
  "toc": {
   "base_numbering": 1,
   "nav_menu": {},
   "number_sections": true,
   "sideBar": false,
   "skip_h1_title": false,
   "title_cell": "Table of Contents",
   "title_sidebar": "Contents",
   "toc_cell": false,
   "toc_position": {
    "height": "1152.67px",
    "left": "41px",
    "top": "110px",
    "width": "253.458px"
   },
   "toc_section_display": true,
   "toc_window_display": false
  },
  "varInspector": {
   "cols": {
    "lenName": 16,
    "lenType": 16,
    "lenVar": 40
   },
   "kernels_config": {
    "python": {
     "delete_cmd_postfix": "",
     "delete_cmd_prefix": "del ",
     "library": "var_list.py",
     "varRefreshCmd": "print(var_dic_list())"
    },
    "r": {
     "delete_cmd_postfix": ") ",
     "delete_cmd_prefix": "rm(",
     "library": "var_list.r",
     "varRefreshCmd": "cat(var_dic_list()) "
    }
   },
   "types_to_exclude": [
    "module",
    "function",
    "builtin_function_or_method",
    "instance",
    "_Feature"
   ],
   "window_display": false
  }
 },
 "nbformat": 4,
 "nbformat_minor": 4
}
